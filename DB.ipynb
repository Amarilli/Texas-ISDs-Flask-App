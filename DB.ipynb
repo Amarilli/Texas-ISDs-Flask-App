{
 "cells": [
  {
   "cell_type": "code",
   "execution_count": 1,
   "metadata": {},
   "outputs": [
    {
     "data": {
      "text/plain": [
       "'\\nmongoimport --type json -d texasSchoolsDB -c scores_finances --drop --jsonArray scores_finances.json\\nmongoimport --type json -d texasSchoolsDB -c school-info --drop --jsonArray texas-school.json\\n'"
      ]
     },
     "execution_count": 1,
     "metadata": {},
     "output_type": "execute_result"
    }
   ],
   "source": [
    "# in terminal\n",
    "'''\n",
    "mongoimport --type json -d texasSchoolsDB -c scores_finances --drop --jsonArray scores_finances.json\n",
    "mongoimport --type json -d texasSchoolsDB -c scores_finances_coordinates --drop --jsonArray finance_scores_coordinates.json\n",
    "mongoimport --type json -d texasSchoolsDB -c school_info --drop --jsonArray texas-school.json\n",
    "mongoimport --type json -d texasSchoolsDB -c coordinates --drop --jsonArray finance_coordinates.json\n",
    "jq --compact-output \".features\"  boundaries.geojson | mongoimport --db texasSchoolsDB -c current_districts_geojson --jsonArray\n",
    "jq --compact-output \".features\" Schools_2022_to_2023.geojson | mongoimport --db texasSchoolsDB -c schools_2022_to_2023_geojson --jsonArray\n",
    "'''"
   ]
  },
  {
   "cell_type": "code",
   "execution_count": 1,
   "metadata": {},
   "outputs": [],
   "source": [
    "from pymongo import MongoClient\n",
    "import json"
   ]
  },
  {
   "cell_type": "code",
   "execution_count": 2,
   "metadata": {},
   "outputs": [],
   "source": [
    "mongo = MongoClient(port=27017)"
   ]
  },
  {
   "cell_type": "code",
   "execution_count": 3,
   "metadata": {},
   "outputs": [
    {
     "name": "stdout",
     "output_type": "stream",
     "text": [
      "admin\n",
      "autosaurus\n",
      "classDB\n",
      "config\n",
      "epa\n",
      "fruits_db\n",
      "gardenDB\n",
      "local\n",
      "met\n",
      "petsitly_marketing\n",
      "texasSchoolsDB <----------\n",
      "travel_db\n",
      "uk_food\n"
     ]
    }
   ],
   "source": [
    "for dbname in mongo.list_database_names():\n",
    "    if dbname == \"texasSchoolsDB\":\n",
    "        print(f'{dbname} <----------')\n",
    "    else:\n",
    "        print(dbname)"
   ]
  },
  {
   "cell_type": "code",
   "execution_count": 4,
   "metadata": {},
   "outputs": [],
   "source": [
    "db = mongo[\"texasSchoolsDB\"]"
   ]
  },
  {
   "cell_type": "code",
   "execution_count": 22,
   "metadata": {},
   "outputs": [
    {
     "data": {
      "text/plain": [
       "['schools_2022_to_2023_geojson',\n",
       " 'coordinates',\n",
       " 'scores_finances_coordinates',\n",
       " 'scores_finances',\n",
       " 'current_districts_geojson',\n",
       " 'school_info']"
      ]
     },
     "execution_count": 22,
     "metadata": {},
     "output_type": "execute_result"
    }
   ],
   "source": [
    "db.list_collection_names()"
   ]
  },
  {
   "cell_type": "code",
   "execution_count": 14,
   "metadata": {},
   "outputs": [
    {
     "data": {
      "text/plain": [
       "{'_id': ObjectId('65e2793fd237b60190d6991c'),\n",
       " '': '56',\n",
       " 'District_Name': 'dallas isd',\n",
       " 'Year': '2022',\n",
       " 'Total_Operating_Revenue': '1906648921',\n",
       " 'Student_Count': '143430',\n",
       " 'Campus_Name': 'school of health professions',\n",
       " 'County_Name': 'Dallas County',\n",
       " 'Region': '10',\n",
       " 'Region_Name': 'Richardson',\n",
       " 'ERW': '555',\n",
       " 'SAT_Math': '531',\n",
       " 'SAT_Total': '1086',\n",
       " 'ACT_English': '19.4',\n",
       " 'ACT_Math': '20.1',\n",
       " 'ACT_Reading': '21.7',\n",
       " 'ACT_Science': '21.0',\n",
       " 'ACT_Compos': '20.7',\n",
       " 'per_student_budget': '13293',\n",
       " 'Latitude': '32.75130632',\n",
       " 'Longitude': '-96.80685991'}"
      ]
     },
     "execution_count": 14,
     "metadata": {},
     "output_type": "execute_result"
    }
   ],
   "source": [
    "db.scores_finances_coordinates.find_one()"
   ]
  },
  {
   "cell_type": "code",
   "execution_count": 7,
   "metadata": {},
   "outputs": [
    {
     "data": {
      "text/plain": [
       "{'_id': ObjectId('65d8020fa6b25e1e60be7237'),\n",
       " 'District Name': 'houston isd',\n",
       " 'Year': '2022',\n",
       " 'Total Operating Revenue': 2535319349.0,\n",
       " 'Student Count': 193727.0,\n",
       " 'Campus Name': 'Lamar HS',\n",
       " 'County Name': 'Harris County',\n",
       " 'Region': '4.0',\n",
       " 'Region Name': 'Houston',\n",
       " 'ERW': 525.0,\n",
       " 'SAT Math': 504.0,\n",
       " 'SAT Total': 1029.0,\n",
       " 'ACT English': 24.1,\n",
       " 'ACT Math': 23.0,\n",
       " 'ACT Reading': 26.0,\n",
       " 'ACT Science': 23.9,\n",
       " 'ACT Compos': 24.4,\n",
       " 'per student budget': 13087.0}"
      ]
     },
     "execution_count": 7,
     "metadata": {},
     "output_type": "execute_result"
    }
   ],
   "source": [
    "db.scores_finances.find_one()"
   ]
  },
  {
   "cell_type": "code",
   "execution_count": 7,
   "metadata": {},
   "outputs": [
    {
     "data": {
      "text/plain": [
       "{'_id': ObjectId('65e1357acc59f9387419867d'),\n",
       " 'type': 'Feature',\n",
       " 'properties': {'ObjectID': 2,\n",
       "  'Status': 'M',\n",
       "  'Score': 100,\n",
       "  'Match_type': 'A',\n",
       "  'Match_addr': '17750 N US Highway 287, Tennessee Colony, Texas, 75861',\n",
       "  'LongLabel': '17750 N US Highway 287, Tennessee Colony, TX, 75861, USA',\n",
       "  'ShortLabel': '17750 N US Highway 287',\n",
       "  'Addr_type': 'StreetAddress',\n",
       "  'Type': '',\n",
       "  'PlaceName': '',\n",
       "  'Place_addr': '17750 N US Highway 287, Tennessee Colony, Texas, 75861',\n",
       "  'Phone': '',\n",
       "  'URL': '',\n",
       "  'Rank': 20,\n",
       "  'AddBldg': '',\n",
       "  'AddNum': '17750',\n",
       "  'AddNumFrom': '17542',\n",
       "  'AddNumTo': '17798',\n",
       "  'AddRange': '17542-17798',\n",
       "  'Side': 'R',\n",
       "  'StPreDir': 'N',\n",
       "  'StPreType': '',\n",
       "  'StName': 'US Highway 287',\n",
       "  'StType': '',\n",
       "  'StDir': '',\n",
       "  'BldgType': '',\n",
       "  'BldgName': '',\n",
       "  'LevelType': '',\n",
       "  'LevelName': '',\n",
       "  'UnitType': '',\n",
       "  'UnitName': '',\n",
       "  'SubAddr': '',\n",
       "  'StAddr': '17750 N US Highway 287',\n",
       "  'Block': '',\n",
       "  'Sector': '',\n",
       "  'Nbrhd': '',\n",
       "  'District': '',\n",
       "  'City': 'Tennessee Colony',\n",
       "  'MetroArea': '',\n",
       "  'Subregion': 'Anderson County',\n",
       "  'Region': 'Texas',\n",
       "  'RegionAbbr': 'TX',\n",
       "  'Territory': '',\n",
       "  'Zone': '',\n",
       "  'Postal': '75861',\n",
       "  'PostalExt': '3332',\n",
       "  'Country': 'USA',\n",
       "  'LangCode': 'ENG',\n",
       "  'Distance': 0,\n",
       "  'X': -95.9247407425777,\n",
       "  'Y': 31.9222585418686,\n",
       "  'DisplayX': -95.9247407425777,\n",
       "  'DisplayY': 31.9222585418686,\n",
       "  'Xmin': -95.9257407425777,\n",
       "  'Xmax': -95.9237407425776,\n",
       "  'Ymin': 31.9212585418686,\n",
       "  'Ymax': 31.9232585418686,\n",
       "  'ExInfo': '',\n",
       "  'IN_Address': '17750 N US HWY 287',\n",
       "  'IN_Address2': None,\n",
       "  'IN_Address3': None,\n",
       "  'IN_Neighborhood': None,\n",
       "  'IN_City': 'TENNESSEE COLONY',\n",
       "  'IN_Subregion': 'ANDERSON COUNTY',\n",
       "  'IN_Region': 'TX',\n",
       "  'IN_Postal': '75861',\n",
       "  'IN_PostalExt': None,\n",
       "  'IN_CountryCode': None,\n",
       "  'USER_County_Number': 1,\n",
       "  'USER_County_Name': 'ANDERSON COUNTY',\n",
       "  'USER_ESC_Region_Served': 7,\n",
       "  'USER_ESC_Region_PEIMS': 7,\n",
       "  'USER_ESC_Region_Geographic': 7,\n",
       "  'USER_District_Number': 1902,\n",
       "  'USER_District_Name': 'CAYUGA ISD',\n",
       "  'USER_District_Type': 'INDEPENDENT',\n",
       "  'USER_NCES_District_ID': 4813200,\n",
       "  'USER_District_Street_Address': 'P O BOX 427',\n",
       "  'USER_District_City': 'CAYUGA',\n",
       "  'USER_District_State': 'TX',\n",
       "  'USER_District_Zip': '75832-0427',\n",
       "  'USER_District_Site_Street_Addre': '17750 N US HWY 287',\n",
       "  'USER_District_Site_City': 'TENNESSEE COLONY',\n",
       "  'USER_District_Site_State': 'TX',\n",
       "  'USER_District_Site_Zip': '75861',\n",
       "  'USER_District_Phone': '(903) 928-2102',\n",
       "  'USER_District_Fax': '(903) 928-2646',\n",
       "  'USER_District_Email_Address': 'superintendent@cayugaisd.com',\n",
       "  'USER_District_Web_Page_Address': 'www.cayugaisd.com',\n",
       "  'USER_District_Superintendent': 'DR JOE E SATTERWHITE III',\n",
       "  'USER_District_Enrollment_as_of_': 594,\n",
       "  'USER_School_Number': 1902001,\n",
       "  'USER_School_Name': 'CAYUGA H S',\n",
       "  'USER_Instruction_Type': 'REGULAR INSTRUCTIONAL',\n",
       "  'USER_Charter_Type': None,\n",
       "  'USER_AEA': 'N',\n",
       "  'USER_Magnet_Status': 'N',\n",
       "  'USER_Residential_Facility': 'N',\n",
       "  'USER_NCES_School_ID': 481320000821,\n",
       "  'USER_School_Street_Address': 'P O BOX 427',\n",
       "  'USER_School_City': 'CAYUGA',\n",
       "  'USER_School_State': 'TX',\n",
       "  'USER_School_Zip': '75832-0427',\n",
       "  'USER_School_Site_Street_Address': '17750 N US HWY 287',\n",
       "  'USER_School_Site_City': 'TENNESSEE COLONY',\n",
       "  'USER_School_Site_State': 'TX',\n",
       "  'USER_School_Site_Zip': '75861',\n",
       "  'USER_School_Phone': '(903) 928-2294 ext:012',\n",
       "  'USER_School_Fax': '(903) 928-2239',\n",
       "  'USER_School_Email_Address': 'admin1@cayugaisd.com',\n",
       "  'USER_School_Web_Page_Address': 'www.cayugaisd.com',\n",
       "  'USER_School_Principal': 'JAY THOMPSON',\n",
       "  'USER_Grade_Range': '09-12',\n",
       "  'USER_School_Enrollment_as_of_Oc': 171,\n",
       "  'USER_School_Status': 'Active',\n",
       "  'USER_School_Status_Date': None,\n",
       "  'USER_Update_Date': '4/20/2023 5:41:12 AM'},\n",
       " 'geometry': {'type': 'Point',\n",
       "  'coordinates': [-95.924740743, 31.9222585420001]}}"
      ]
     },
     "execution_count": 7,
     "metadata": {},
     "output_type": "execute_result"
    }
   ],
   "source": [
    "db.schools_2022_to_2023_geojson.find_one()"
   ]
  },
  {
   "cell_type": "code",
   "execution_count": 6,
   "metadata": {},
   "outputs": [
    {
     "data": {
      "text/plain": [
       "{'_id': ObjectId('65e130878ad1fbb12ef0bef4'),\n",
       " 'type': 'Feature',\n",
       " 'properties': {'FID': 3,\n",
       "  'GEOID20': '4811040',\n",
       "  'NAME20': 'Boys Ranch Independent School District',\n",
       "  'SDLEA': '11040',\n",
       "  'NAME': 'Boys Ranch ISD',\n",
       "  'NAME2': 'Boys Ranch',\n",
       "  'DISTRICT_N': 180901,\n",
       "  'DISTRICT': '180-901',\n",
       "  'DISTRICT_C': '180901',\n",
       "  'NCES_DISTR': '4811040',\n",
       "  'COLOR': 7,\n",
       "  'Shape__Area': 1272250.45495605,\n",
       "  'Shape__Length': 4542.87520620017},\n",
       " 'geometry': {'type': 'Polygon',\n",
       "  'coordinates': [[[-102.260012057335, 35.5291949555614],\n",
       "    [-102.259864057414, 35.5301409561246],\n",
       "    [-102.259496057883, 35.5305569555202],\n",
       "    [-102.258197056889, 35.5315759563368],\n",
       "    [-102.258167056982, 35.5316749565406],\n",
       "    [-102.258084057132, 35.5319649563145],\n",
       "    [-102.258088057159, 35.5332179564679],\n",
       "    [-102.257812057496, 35.5341749572022],\n",
       "    [-102.257869057564, 35.5347659567766],\n",
       "    [-102.258123057601, 35.5353359564194],\n",
       "    [-102.258126057625, 35.5362929568498],\n",
       "    [-102.25796005826, 35.5368859575637],\n",
       "    [-102.257906057016, 35.5373409570064],\n",
       "    [-102.257432058009, 35.5382739565586],\n",
       "    [-102.257183057068, 35.5387059574121],\n",
       "    [-102.255258056997, 35.5387319575647],\n",
       "    [-102.253943057205, 35.5386169580037],\n",
       "    [-102.25209805588, 35.5388209573376],\n",
       "    [-102.249458055903, 35.5386989584079],\n",
       "    [-102.24761205525, 35.5385809583191],\n",
       "    [-102.246955055658, 35.5381469578224],\n",
       "    [-102.246562055078, 35.5369609578421],\n",
       "    [-102.245924054282, 35.5351279573425],\n",
       "    [-102.245541054057, 35.5337279576887],\n",
       "    [-102.245276054217, 35.5329739568134],\n",
       "    [-102.245269054479, 35.5329199568414],\n",
       "    [-102.245159053709, 35.5321129565131],\n",
       "    [-102.245296053779, 35.5313599565628],\n",
       "    [-102.24548405406, 35.5312279573779],\n",
       "    [-102.246484054315, 35.5307219566756],\n",
       "    [-102.24711405494, 35.5303749573422],\n",
       "    [-102.249680054436, 35.5294809556619],\n",
       "    [-102.253544055705, 35.5281119558456],\n",
       "    [-102.257387056796, 35.5267689551749],\n",
       "    [-102.258416057174, 35.5264399547105],\n",
       "    [-102.258423056915, 35.5265109555512],\n",
       "    [-102.258255056764, 35.5271739556102],\n",
       "    [-102.258450056864, 35.5274489558507],\n",
       "    [-102.25951405759, 35.528272955026],\n",
       "    [-102.259570057086, 35.5284789559435],\n",
       "    [-102.259657057853, 35.5286019553054],\n",
       "    [-102.259874057365, 35.5289169550953],\n",
       "    [-102.260012057335, 35.5291949555614]]]}}"
      ]
     },
     "execution_count": 6,
     "metadata": {},
     "output_type": "execute_result"
    }
   ],
   "source": [
    "db.current_districts_geojson.find_one()"
   ]
  },
  {
   "cell_type": "code",
   "execution_count": 14,
   "metadata": {},
   "outputs": [
    {
     "data": {
      "text/plain": [
       "{'_id': ObjectId('65dd33e4f86f6bc84f06d3f4'),\n",
       " 'CountyNumber': \"'001\",\n",
       " 'CountyName': 'ANDERSON COUNTY',\n",
       " 'RegionNumber': \"'07\",\n",
       " 'DistrictNumber': \"'001902\",\n",
       " 'DistrictName': 'CAYUGA ISD',\n",
       " 'DistrictType': 'INDEPENDENT',\n",
       " 'DistrictStreetAddress': 'P O BOX 427',\n",
       " 'DistrictCity': 'CAYUGA',\n",
       " 'DistrictState': 'TX',\n",
       " 'DistrictZip': '75832-0427',\n",
       " 'DistrictSiteStreetAddress': '17750 N US HWY 287',\n",
       " 'DistrictSiteCity': 'TENNESSEE COLONY',\n",
       " 'DistrictSiteState': 'TX',\n",
       " 'DistrictSiteZip': '75861',\n",
       " 'DistrictPhone': '(903) 928-2102',\n",
       " 'DistrictFax': '(903) 928-2646',\n",
       " 'DistrictEmailAddress': 'admin@cayuga.esc7.net',\n",
       " 'DistrictWebPageAddress': 'www.cayuga.esc7.net',\n",
       " 'DistrictSuperintendent': 'DR RICK WEBB   ',\n",
       " 'DistrictEnrollmentasofOct2014': '577',\n",
       " 'SchoolNumber': \"'001902041\",\n",
       " 'SchoolName': 'CAYUGA MIDDLE',\n",
       " 'InstructionType': 'REGULAR INSTRUCTIONAL',\n",
       " 'CharterType': '',\n",
       " 'SchoolStreetAddress': 'P O BOX 427',\n",
       " 'SchoolCity': 'CAYUGA',\n",
       " 'SchoolState': 'TX',\n",
       " 'SchoolZip': '75832-0427',\n",
       " 'SchoolSiteStreetAddress': '17750 N US HWY 287',\n",
       " 'SchoolSiteCity': 'TENNESSEE COLONY',\n",
       " 'SchoolSiteState': 'TX',\n",
       " 'SchoolSiteZip': '75861',\n",
       " 'SchoolPhone': '(903) 928-2699 ext:4001',\n",
       " 'SchoolFax': '(903) 928-2646',\n",
       " 'SchoolEmailAddress': 'admin@cayuga.esc7.net',\n",
       " 'SchoolWebPageAddress': 'www.cayuga.esc7.net',\n",
       " 'SchoolPrincipal': 'MRS SHERRI MCINNIS   ',\n",
       " 'GradeRange': \"'06-08\",\n",
       " 'SchoolEnrollmentasofOct2014': '120',\n",
       " 'SchoolStatus': 'Active',\n",
       " 'SchoolStatusDate': '1996-03-11',\n",
       " 'UpdateDate': '2015-03-14T05:34:57',\n",
       " 'GeocodeQualityType': 'Manual ',\n",
       " 'Latitude': '31.922572',\n",
       " 'Longitude': '-95.973648'}"
      ]
     },
     "execution_count": 14,
     "metadata": {},
     "output_type": "execute_result"
    }
   ],
   "source": [
    "db.school_info.find_one()"
   ]
  },
  {
   "cell_type": "code",
   "execution_count": 18,
   "metadata": {},
   "outputs": [
    {
     "data": {
      "text/plain": [
       "{'_id': ObjectId('65e1388bcd654acb22a34303'),\n",
       " '': '20',\n",
       " 'District_Name': 'westwood isd',\n",
       " 'Total_Operating_Revenue': '15231722.0',\n",
       " 'Student_Count': '1518.0',\n",
       " 'per_student_budget': '10034',\n",
       " 'Latitude': '31.72719211',\n",
       " 'Longitude': '-95.68118219'}"
      ]
     },
     "execution_count": 18,
     "metadata": {},
     "output_type": "execute_result"
    }
   ],
   "source": [
    "db.coordinates.find_one()"
   ]
  },
  {
   "cell_type": "code",
   "execution_count": 19,
   "metadata": {},
   "outputs": [],
   "source": [
    "coordinates = db.coordinates"
   ]
  },
  {
   "cell_type": "code",
   "execution_count": 7,
   "metadata": {},
   "outputs": [],
   "source": [
    "scores_finances_coordinates = db.scores_finances_coordinates"
   ]
  },
  {
   "cell_type": "code",
   "execution_count": 15,
   "metadata": {},
   "outputs": [],
   "source": [
    "scores_finances = db.scores_finances"
   ]
  },
  {
   "cell_type": "code",
   "execution_count": 20,
   "metadata": {},
   "outputs": [
    {
     "data": {
      "text/plain": [
       "<pymongo.results.UpdateResult at 0x207df0c8980>"
      ]
     },
     "execution_count": 20,
     "metadata": {},
     "output_type": "execute_result"
    }
   ],
   "source": [
    "coordinates.update_many({}, [ {'$set': {\"Total_Operating_Revenue\": {'$toDouble': \"$Total_Operating_Revenue\"}}} ])\n",
    "coordinates.update_many({}, [ {'$set': {\"Student_Count\": {'$toDouble': \"$Student_Count\"}}} ])\n",
    "coordinates.update_many({}, [ {'$set': {\"per_student_budget\": {'$toDouble': \"$per_student_budget\"}}} ])\n",
    "coordinates.update_many({}, [ {'$set': {\"Latitude\": {'$toDouble': \"$Latitude\"}}} ])\n",
    "coordinates.update_many({}, [ {'$set': {\"Longitude\": {'$toDouble': \"$Longitude\"}}} ])"
   ]
  },
  {
   "cell_type": "code",
   "execution_count": 15,
   "metadata": {},
   "outputs": [
    {
     "data": {
      "text/plain": [
       "<pymongo.results.UpdateResult at 0x207df09e500>"
      ]
     },
     "execution_count": 15,
     "metadata": {},
     "output_type": "execute_result"
    }
   ],
   "source": [
    "scores_finances_coordinates.update_many({}, [ {'$set': {\"SAT_Math\": {'$toDouble': \"$SAT_Math\"}}} ])\n",
    "scores_finances_coordinates.update_many({}, [ {'$set': {\"Total_Operating_Revenue\": {'$toDouble': \"$Total_Operating_Revenue\"}}} ])\n",
    "scores_finances_coordinates.update_many({}, [ {'$set': {\"Student_Count\": {'$toDouble': \"$Student_Count\"}}} ])\n",
    "scores_finances_coordinates.update_many({}, [ {'$set': {\"ERW\": {'$toDouble': \"$ERW\"}}} ])\n",
    "scores_finances_coordinates.update_many({}, [ {'$set': {\"SAT_Total\": {'$toDouble': \"$SAT_Total\"}}} ])\n",
    "scores_finances_coordinates.update_many({}, [ {'$set': {\"ACT_English\": {'$toDouble': \"$ACT_English\"}}} ])\n",
    "scores_finances_coordinates.update_many({}, [ {'$set': {\"ACT_Math\": {'$toDouble': \"$ACT_Math\"}}} ])\n",
    "scores_finances_coordinates.update_many({}, [ {'$set': {\"ACT_Reading\": {'$toDouble': \"$ACT_Reading\"}}} ])\n",
    "scores_finances_coordinates.update_many({}, [ {'$set': {\"ACT_Science\": {'$toDouble': \"$ACT_Science\"}}} ])\n",
    "scores_finances_coordinates.update_many({}, [ {'$set': {\"ACT_Compos\": {'$toDouble': \"$ACT_Compos\"}}} ])\n",
    "scores_finances_coordinates.update_many({}, [ {'$set': {\"per_student_budget\": {'$toDouble': \"$per_student_budget\"}}} ])\n",
    "scores_finances_coordinates.update_many({}, [ {'$set': {\"Latitude\": {'$toDouble': \"$Latitude\"}}} ])\n",
    "scores_finances_coordinates.update_many({}, [ {'$set': {\"Longitude\": {'$toDouble': \"$Longitude\"}}} ])"
   ]
  },
  {
   "cell_type": "code",
   "execution_count": 43,
   "metadata": {},
   "outputs": [
    {
     "data": {
      "text/plain": [
       "<pymongo.results.UpdateResult at 0x1df52052440>"
      ]
     },
     "execution_count": 43,
     "metadata": {},
     "output_type": "execute_result"
    }
   ],
   "source": [
    "scores_finances.update_many({}, [ {'$set': {\"SAT Math\": {'$toDouble': \"$SAT Math\"}}} ])\n",
    "scores_finances.update_many({}, [ {'$set': {\"Total Operating Revenue\": {'$toDouble': \"$Total Operating Revenue\"}}} ])\n",
    "scores_finances.update_many({}, [ {'$set': {\"Student Count\": {'$toDouble': \"$Student Count\"}}} ])\n",
    "scores_finances.update_many({}, [ {'$set': {\"ERW\": {'$toDouble': \"$ERW\"}}} ])\n",
    "scores_finances.update_many({}, [ {'$set': {\"SAT Total\": {'$toDouble': \"$SAT Total\"}}} ])\n",
    "scores_finances.update_many({}, [ {'$set': {\"ACT English\": {'$toDouble': \"$ACT English\"}}} ])\n",
    "scores_finances.update_many({}, [ {'$set': {\"ACT Math\": {'$toDouble': \"$ACT Math\"}}} ])\n",
    "scores_finances.update_many({}, [ {'$set': {\"ACT Reading\": {'$toDouble': \"$ACT Reading\"}}} ])\n",
    "scores_finances.update_many({}, [ {'$set': {\"ACT Science\": {'$toDouble': \"$ACT Science\"}}} ])\n",
    "scores_finances.update_many({}, [ {'$set': {\"ACT Compos\": {'$toDouble': \"$ACT Compos\"}}} ])\n",
    "scores_finances.update_many({}, [ {'$set': {\"per student budget\": {'$toDouble': \"$per student budget\"}}} ])"
   ]
  },
  {
   "cell_type": "code",
   "execution_count": 21,
   "metadata": {},
   "outputs": [
    {
     "data": {
      "text/plain": [
       "[{'_id': ObjectId('65e1388bcd654acb22a34303'),\n",
       "  '': '20',\n",
       "  'District_Name': 'westwood isd',\n",
       "  'Total_Operating_Revenue': 15231722.0,\n",
       "  'Student_Count': 1518.0,\n",
       "  'per_student_budget': 10034.0,\n",
       "  'Latitude': 31.72719211,\n",
       "  'Longitude': -95.68118219}]"
      ]
     },
     "execution_count": 21,
     "metadata": {},
     "output_type": "execute_result"
    }
   ],
   "source": [
    "query = {'Latitude': 31.72719211}\n",
    "\n",
    "results = coordinates.find(query)\n",
    "\n",
    "[result for result in results]"
   ]
  },
  {
   "cell_type": "code",
   "execution_count": 44,
   "metadata": {},
   "outputs": [
    {
     "data": {
      "text/plain": [
       "[{'_id': ObjectId('65d8020fa6b25e1e60be7237'),\n",
       "  'District Name': 'houston isd',\n",
       "  'Year': '2022',\n",
       "  'Total Operating Revenue': 2535319349.0,\n",
       "  'Student Count': 193727.0,\n",
       "  'Campus Name': 'Lamar HS',\n",
       "  'County Name': 'Harris County',\n",
       "  'Region': '4.0',\n",
       "  'Region Name': 'Houston',\n",
       "  'ERW': 525.0,\n",
       "  'SAT Math': 504.0,\n",
       "  'SAT Total': 1029.0,\n",
       "  'ACT English': 24.1,\n",
       "  'ACT Math': 23.0,\n",
       "  'ACT Reading': 26.0,\n",
       "  'ACT Science': 23.9,\n",
       "  'ACT Compos': 24.4,\n",
       "  'per student budget': 13087.0},\n",
       " {'_id': ObjectId('65d8020fa6b25e1e60be72fc'),\n",
       "  'District Name': 'garland isd',\n",
       "  'Year': '2022',\n",
       "  'Total Operating Revenue': 619901249.0,\n",
       "  'Student Count': 52960.0,\n",
       "  'Campus Name': 'N Garland HS',\n",
       "  'County Name': 'Dallas County',\n",
       "  'Region': '10.0',\n",
       "  'Region Name': 'Richardson',\n",
       "  'ERW': 498.0,\n",
       "  'SAT Math': 504.0,\n",
       "  'SAT Total': 1002.0,\n",
       "  'ACT English': 20.1,\n",
       "  'ACT Math': 20.4,\n",
       "  'ACT Reading': 21.8,\n",
       "  'ACT Science': 20.5,\n",
       "  'ACT Compos': 20.8,\n",
       "  'per student budget': 11705.0},\n",
       " {'_id': ObjectId('65d8020fa6b25e1e60be740b'),\n",
       "  'District Name': 'bryan isd',\n",
       "  'Year': '2022',\n",
       "  'Total Operating Revenue': 195788852.0,\n",
       "  'Student Count': 16005.0,\n",
       "  'Campus Name': 'Bryan Collegiate HS',\n",
       "  'County Name': 'Brazos County',\n",
       "  'Region': '6.0',\n",
       "  'Region Name': 'Huntsville',\n",
       "  'ERW': 525.0,\n",
       "  'SAT Math': 504.0,\n",
       "  'SAT Total': 1029.0,\n",
       "  'ACT English': 17.3,\n",
       "  'ACT Math': 17.9,\n",
       "  'ACT Reading': 19.7,\n",
       "  'ACT Science': 19.4,\n",
       "  'ACT Compos': 18.7,\n",
       "  'per student budget': 12232.0},\n",
       " {'_id': ObjectId('65d8020fa6b25e1e60be750b'),\n",
       "  'District Name': 'kennedale isd',\n",
       "  'Year': '2022',\n",
       "  'Total Operating Revenue': 33734663.0,\n",
       "  'Student Count': 2836.0,\n",
       "  'Campus Name': 'Kennedale HS',\n",
       "  'County Name': 'Tarrant County',\n",
       "  'Region': '11.0',\n",
       "  'Region Name': 'Fort Worth',\n",
       "  'ERW': 526.0,\n",
       "  'SAT Math': 504.0,\n",
       "  'SAT Total': 1030.0,\n",
       "  'ACT English': 19.8,\n",
       "  'ACT Math': 19.9,\n",
       "  'ACT Reading': 21.5,\n",
       "  'ACT Science': 21.9,\n",
       "  'ACT Compos': 20.9,\n",
       "  'per student budget': 11895.0},\n",
       " {'_id': ObjectId('65d8020fa6b25e1e60be7586'),\n",
       "  'District Name': 'whitney isd',\n",
       "  'Year': '2022',\n",
       "  'Total Operating Revenue': 19817508.0,\n",
       "  'Student Count': 1474.0,\n",
       "  'Campus Name': 'Whitney HS',\n",
       "  'County Name': 'Hill County',\n",
       "  'Region': '12.0',\n",
       "  'Region Name': 'Waco',\n",
       "  'ERW': 501.0,\n",
       "  'SAT Math': 504.0,\n",
       "  'SAT Total': 1006.0,\n",
       "  'ACT English': 19.0,\n",
       "  'ACT Math': 19.6,\n",
       "  'ACT Reading': 19.2,\n",
       "  'ACT Science': 20.7,\n",
       "  'ACT Compos': 19.7,\n",
       "  'per student budget': 13444.0},\n",
       " {'_id': ObjectId('65d8020fa6b25e1e60be75f4'),\n",
       "  'District Name': 'new waverly isd',\n",
       "  'Year': '2022',\n",
       "  'Total Operating Revenue': 14468899.0,\n",
       "  'Student Count': 994.0,\n",
       "  'Campus Name': 'New Waverly HS',\n",
       "  'County Name': 'Walker County',\n",
       "  'Region': '6.0',\n",
       "  'Region Name': 'Huntsville',\n",
       "  'ERW': 507.0,\n",
       "  'SAT Math': 504.0,\n",
       "  'SAT Total': 1010.0,\n",
       "  'ACT English': 22.0,\n",
       "  'ACT Math': 21.6,\n",
       "  'ACT Reading': 25.1,\n",
       "  'ACT Science': 21.9,\n",
       "  'ACT Compos': 22.9,\n",
       "  'per student budget': 14556.0},\n",
       " {'_id': ObjectId('65d80210a6b25e1e60be7638'),\n",
       "  'District Name': 'garrison isd',\n",
       "  'Year': '2022',\n",
       "  'Total Operating Revenue': 10564419.0,\n",
       "  'Student Count': 748.0,\n",
       "  'Campus Name': 'Garrison HS',\n",
       "  'County Name': 'Nacogdoches County',\n",
       "  'Region': '7.0',\n",
       "  'Region Name': 'Kilgore',\n",
       "  'ERW': 511.0,\n",
       "  'SAT Math': 504.0,\n",
       "  'SAT Total': 1016.0,\n",
       "  'ACT English': 17.1,\n",
       "  'ACT Math': 18.1,\n",
       "  'ACT Reading': 19.1,\n",
       "  'ACT Science': 19.1,\n",
       "  'ACT Compos': 18.5,\n",
       "  'per student budget': 14123.0},\n",
       " {'_id': ObjectId('65d80210a6b25e1e60be7683'),\n",
       "  'District Name': 'ropes isd',\n",
       "  'Year': '2022',\n",
       "  'Total Operating Revenue': 7526657.0,\n",
       "  'Student Count': 514.0,\n",
       "  'Campus Name': 'Ropes School',\n",
       "  'County Name': 'Hockley County',\n",
       "  'Region': '17.0',\n",
       "  'Region Name': 'Lubbock',\n",
       "  'ERW': 512.0,\n",
       "  'SAT Math': 504.0,\n",
       "  'SAT Total': 1016.0,\n",
       "  'ACT English': 18.7,\n",
       "  'ACT Math': 18.9,\n",
       "  'ACT Reading': 20.5,\n",
       "  'ACT Science': 20.2,\n",
       "  'ACT Compos': 19.7,\n",
       "  'per student budget': 14643.0}]"
      ]
     },
     "execution_count": 44,
     "metadata": {},
     "output_type": "execute_result"
    }
   ],
   "source": [
    "query = {'SAT Math': 504.0}\n",
    "\n",
    "results = scores_finances.find(query)\n",
    "\n",
    "[result for result in results]"
   ]
  },
  {
   "cell_type": "code",
   "execution_count": 17,
   "metadata": {},
   "outputs": [
    {
     "data": {
      "text/plain": [
       "[{'_id': ObjectId('65e2793fd237b60190d6991e'),\n",
       "  '': '59',\n",
       "  'District_Name': 'dallas isd',\n",
       "  'Year': '2022',\n",
       "  'Total_Operating_Revenue': 1906648921.0,\n",
       "  'Student_Count': 143430.0,\n",
       "  'Campus_Name': 'booker t washington spva magnet',\n",
       "  'County_Name': 'Dallas County',\n",
       "  'Region': '10',\n",
       "  'Region_Name': 'Richardson',\n",
       "  'ERW': 561.0,\n",
       "  'SAT_Math': 519.0,\n",
       "  'SAT_Total': 1080.0,\n",
       "  'ACT_English': 22.7,\n",
       "  'ACT_Math': 19.9,\n",
       "  'ACT_Reading': 24.0,\n",
       "  'ACT_Science': 21.3,\n",
       "  'ACT_Compos': 22.1,\n",
       "  'per_student_budget': 13293.0,\n",
       "  'Latitude': 32.69241,\n",
       "  'Longitude': -96.826754},\n",
       " {'_id': ObjectId('65e2793fd237b60190d69949'),\n",
       "  '': '1050',\n",
       "  'District_Name': 'fort worth academy of fine arts',\n",
       "  'Year': '2022',\n",
       "  'Total_Operating_Revenue': 6451668.0,\n",
       "  'Student_Count': 653.0,\n",
       "  'Campus_Name': 'fort worth academy of fine arts',\n",
       "  'County_Name': 'Tarrant County',\n",
       "  'Region': '11',\n",
       "  'Region_Name': 'Fort Worth',\n",
       "  'ERW': 569.0,\n",
       "  'SAT_Math': 519.0,\n",
       "  'SAT_Total': 1088.0,\n",
       "  'ACT_English': 25.6,\n",
       "  'ACT_Math': 20.5,\n",
       "  'ACT_Reading': 27.4,\n",
       "  'ACT_Science': 22.8,\n",
       "  'ACT_Compos': 24.1,\n",
       "  'per_student_budget': 9880.0,\n",
       "  'Latitude': 32.69098805,\n",
       "  'Longitude': -97.39322189}]"
      ]
     },
     "execution_count": 17,
     "metadata": {},
     "output_type": "execute_result"
    }
   ],
   "source": [
    "query = {'SAT_Math': 519}\n",
    "\n",
    "results = scores_finances_coordinates.find(query)\n",
    "\n",
    "[result for result in results]"
   ]
  },
  {
   "cell_type": "code",
   "execution_count": 16,
   "metadata": {},
   "outputs": [],
   "source": [
    "school_info = db.school_info"
   ]
  },
  {
   "cell_type": "code",
   "execution_count": 34,
   "metadata": {},
   "outputs": [
    {
     "data": {
      "text/plain": [
       "<pymongo.results.UpdateResult at 0x295e5d48c00>"
      ]
     },
     "execution_count": 34,
     "metadata": {},
     "output_type": "execute_result"
    }
   ],
   "source": [
    "school_info.update_many({\"GeocodeQualityType\": \"Manual\"}, [ {'$set': {\"Latitude\": {'$toDouble': \"$Latitude\"}}} ])\n",
    "school_info.update_many({\"GeocodeQualityType\": \"Manual\"}, [ {'$set': {\"Longitude\": {'$toDouble': \"$Longitude\"}}} ])\n",
    "school_info.update_many({\"GeocodeQualityType\": \"AddressRangeInterpolation\"}, [ {'$set': {\"Longitude\": {'$toDouble': \"$Longitude\"}}} ])\n",
    "school_info.update_many({\"GeocodeQualityType\": \"AddressRangeInterpolation\"}, [ {'$set': {\"Latitude\": {'$toDouble': \"$Latitude\"}}} ])"
   ]
  },
  {
   "cell_type": "code",
   "execution_count": 35,
   "metadata": {},
   "outputs": [
    {
     "data": {
      "text/plain": [
       "[{'_id': ObjectId('65dd33e4f86f6bc84f06d3f4'),\n",
       "  'CountyNumber': \"'001\",\n",
       "  'CountyName': 'ANDERSON COUNTY',\n",
       "  'RegionNumber': \"'07\",\n",
       "  'DistrictNumber': \"'001902\",\n",
       "  'DistrictName': 'CAYUGA ISD',\n",
       "  'DistrictType': 'INDEPENDENT',\n",
       "  'DistrictStreetAddress': 'P O BOX 427',\n",
       "  'DistrictCity': 'CAYUGA',\n",
       "  'DistrictState': 'TX',\n",
       "  'DistrictZip': '75832-0427',\n",
       "  'DistrictSiteStreetAddress': '17750 N US HWY 287',\n",
       "  'DistrictSiteCity': 'TENNESSEE COLONY',\n",
       "  'DistrictSiteState': 'TX',\n",
       "  'DistrictSiteZip': '75861',\n",
       "  'DistrictPhone': '(903) 928-2102',\n",
       "  'DistrictFax': '(903) 928-2646',\n",
       "  'DistrictEmailAddress': 'admin@cayuga.esc7.net',\n",
       "  'DistrictWebPageAddress': 'www.cayuga.esc7.net',\n",
       "  'DistrictSuperintendent': 'DR RICK WEBB   ',\n",
       "  'DistrictEnrollmentasofOct2014': '577',\n",
       "  'SchoolNumber': \"'001902041\",\n",
       "  'SchoolName': 'CAYUGA MIDDLE',\n",
       "  'InstructionType': 'REGULAR INSTRUCTIONAL',\n",
       "  'CharterType': '',\n",
       "  'SchoolStreetAddress': 'P O BOX 427',\n",
       "  'SchoolCity': 'CAYUGA',\n",
       "  'SchoolState': 'TX',\n",
       "  'SchoolZip': '75832-0427',\n",
       "  'SchoolSiteStreetAddress': '17750 N US HWY 287',\n",
       "  'SchoolSiteCity': 'TENNESSEE COLONY',\n",
       "  'SchoolSiteState': 'TX',\n",
       "  'SchoolSiteZip': '75861',\n",
       "  'SchoolPhone': '(903) 928-2699 ext:4001',\n",
       "  'SchoolFax': '(903) 928-2646',\n",
       "  'SchoolEmailAddress': 'admin@cayuga.esc7.net',\n",
       "  'SchoolWebPageAddress': 'www.cayuga.esc7.net',\n",
       "  'SchoolPrincipal': 'MRS SHERRI MCINNIS   ',\n",
       "  'GradeRange': \"'06-08\",\n",
       "  'SchoolEnrollmentasofOct2014': '120',\n",
       "  'SchoolStatus': 'Active',\n",
       "  'SchoolStatusDate': '1996-03-11',\n",
       "  'UpdateDate': '2015-03-14T05:34:57',\n",
       "  'GeocodeQualityType': 'Manual ',\n",
       "  'Latitude': 31.922572,\n",
       "  'Longitude': '-95.973648'},\n",
       " {'_id': ObjectId('65dd33e4f86f6bc84f06d3f5'),\n",
       "  'CountyNumber': \"'001\",\n",
       "  'CountyName': 'ANDERSON COUNTY',\n",
       "  'RegionNumber': \"'07\",\n",
       "  'DistrictNumber': \"'001902\",\n",
       "  'DistrictName': 'CAYUGA ISD',\n",
       "  'DistrictType': 'INDEPENDENT',\n",
       "  'DistrictStreetAddress': 'P O BOX 427',\n",
       "  'DistrictCity': 'CAYUGA',\n",
       "  'DistrictState': 'TX',\n",
       "  'DistrictZip': '75832-0427',\n",
       "  'DistrictSiteStreetAddress': '17750 N US HWY 287',\n",
       "  'DistrictSiteCity': 'TENNESSEE COLONY',\n",
       "  'DistrictSiteState': 'TX',\n",
       "  'DistrictSiteZip': '75861',\n",
       "  'DistrictPhone': '(903) 928-2102',\n",
       "  'DistrictFax': '(903) 928-2646',\n",
       "  'DistrictEmailAddress': 'admin@cayuga.esc7.net',\n",
       "  'DistrictWebPageAddress': 'www.cayuga.esc7.net',\n",
       "  'DistrictSuperintendent': 'DR RICK WEBB   ',\n",
       "  'DistrictEnrollmentasofOct2014': '577',\n",
       "  'SchoolNumber': \"'001902001\",\n",
       "  'SchoolName': 'CAYUGA H S',\n",
       "  'InstructionType': 'REGULAR INSTRUCTIONAL',\n",
       "  'CharterType': '',\n",
       "  'SchoolStreetAddress': 'P O BOX 427',\n",
       "  'SchoolCity': 'CAYUGA',\n",
       "  'SchoolState': 'TX',\n",
       "  'SchoolZip': '75832-0427',\n",
       "  'SchoolSiteStreetAddress': '17750 N US HWY 287',\n",
       "  'SchoolSiteCity': 'TENNESSEE COLONY',\n",
       "  'SchoolSiteState': 'TX',\n",
       "  'SchoolSiteZip': '75861',\n",
       "  'SchoolPhone': '(903) 928-2294 ext:012 ',\n",
       "  'SchoolFax': '(903) 928-2239',\n",
       "  'SchoolEmailAddress': 'admin@cayuga.esc7.net',\n",
       "  'SchoolWebPageAddress': 'www.cayuga.esc7.net',\n",
       "  'SchoolPrincipal': 'MR RUSSELL HOLDEN   ',\n",
       "  'GradeRange': \"'09-12\",\n",
       "  'SchoolEnrollmentasofOct2014': '206',\n",
       "  'SchoolStatus': 'Active',\n",
       "  'SchoolStatusDate': ' ',\n",
       "  'UpdateDate': '2015-03-14T05:34:57',\n",
       "  'GeocodeQualityType': 'Manual ',\n",
       "  'Latitude': 31.922572,\n",
       "  'Longitude': '-95.973648'},\n",
       " {'_id': ObjectId('65dd33e4f86f6bc84f06d3f7'),\n",
       "  'CountyNumber': \"'001\",\n",
       "  'CountyName': 'ANDERSON COUNTY',\n",
       "  'RegionNumber': \"'07\",\n",
       "  'DistrictNumber': \"'001902\",\n",
       "  'DistrictName': 'CAYUGA ISD',\n",
       "  'DistrictType': 'INDEPENDENT',\n",
       "  'DistrictStreetAddress': 'P O BOX 427',\n",
       "  'DistrictCity': 'CAYUGA',\n",
       "  'DistrictState': 'TX',\n",
       "  'DistrictZip': '75832-0427',\n",
       "  'DistrictSiteStreetAddress': '17750 N US HWY 287',\n",
       "  'DistrictSiteCity': 'TENNESSEE COLONY',\n",
       "  'DistrictSiteState': 'TX',\n",
       "  'DistrictSiteZip': '75861',\n",
       "  'DistrictPhone': '(903) 928-2102',\n",
       "  'DistrictFax': '(903) 928-2646',\n",
       "  'DistrictEmailAddress': 'admin@cayuga.esc7.net',\n",
       "  'DistrictWebPageAddress': 'www.cayuga.esc7.net',\n",
       "  'DistrictSuperintendent': 'DR RICK WEBB   ',\n",
       "  'DistrictEnrollmentasofOct2014': '577',\n",
       "  'SchoolNumber': \"'001902103\",\n",
       "  'SchoolName': 'CAYUGA EL',\n",
       "  'InstructionType': 'REGULAR INSTRUCTIONAL',\n",
       "  'CharterType': '',\n",
       "  'SchoolStreetAddress': 'P O BOX 427',\n",
       "  'SchoolCity': 'CAYUGA',\n",
       "  'SchoolState': 'TX',\n",
       "  'SchoolZip': '75832-0427',\n",
       "  'SchoolSiteStreetAddress': '17750 N US HWY 287',\n",
       "  'SchoolSiteCity': 'TENNESSEE COLONY',\n",
       "  'SchoolSiteState': 'TX',\n",
       "  'SchoolSiteZip': '75861',\n",
       "  'SchoolPhone': '(903) 928-2295',\n",
       "  'SchoolFax': '(903) 928-2387',\n",
       "  'SchoolEmailAddress': 'admin@cayuga.esc7.net',\n",
       "  'SchoolWebPageAddress': 'www.cayuga.esc7.net',\n",
       "  'SchoolPrincipal': 'MRS TRACIE CAMPBELL   ',\n",
       "  'GradeRange': \"'EE-05\",\n",
       "  'SchoolEnrollmentasofOct2014': '251',\n",
       "  'SchoolStatus': 'Active',\n",
       "  'SchoolStatusDate': ' ',\n",
       "  'UpdateDate': '2015-03-14T05:34:57',\n",
       "  'GeocodeQualityType': 'Manual ',\n",
       "  'Latitude': 31.922572,\n",
       "  'Longitude': '-95.973648'}]"
      ]
     },
     "execution_count": 35,
     "metadata": {},
     "output_type": "execute_result"
    }
   ],
   "source": [
    "query = {\"Latitude\": 31.922572}\n",
    "\n",
    "results = school_info.find(query)\n",
    "\n",
    "[result for result in results]"
   ]
  }
 ],
 "metadata": {
  "kernelspec": {
   "display_name": "dev",
   "language": "python",
   "name": "python3"
  },
  "language_info": {
   "codemirror_mode": {
    "name": "ipython",
    "version": 3
   },
   "file_extension": ".py",
   "mimetype": "text/x-python",
   "name": "python",
   "nbconvert_exporter": "python",
   "pygments_lexer": "ipython3",
   "version": "3.10.13"
  }
 },
 "nbformat": 4,
 "nbformat_minor": 2
}
